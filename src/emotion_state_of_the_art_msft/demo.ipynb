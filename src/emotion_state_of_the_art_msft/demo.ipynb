{
 "cells": [
  {
   "cell_type": "code",
   "execution_count": 41,
   "metadata": {},
   "outputs": [],
   "source": [
    "import numpy as np\n",
    "from model import model_generate\n",
    "from matplotlib.pyplot import imshow\n",
    "%matplotlib inline"
   ]
  },
  {
   "cell_type": "code",
   "execution_count": 2,
   "metadata": {
    "collapsed": true
   },
   "outputs": [],
   "source": [
    "emotion_table = {0: 'neutral',\n",
    "                 1: 'happiness',\n",
    "                 2: 'surprise',\n",
    "                 3: 'sadness',\n",
    "                 4: 'anger',\n",
    "                 5: 'disgust',\n",
    "                 6: 'fear',\n",
    "                 7: 'contempt'}"
   ]
  },
  {
   "cell_type": "code",
   "execution_count": 20,
   "metadata": {
    "collapsed": true
   },
   "outputs": [],
   "source": [
    "# Compute the accuracy of a dataset\n",
    "def compute_accuracy(model, X_test, Y_test):\n",
    "    Y_test_pred = model.predict(X_test, verbose=1)\n",
    "    Y_test_pred_arg = np.argmax(Y_test_pred, axis=1)\n",
    "\n",
    "    count = 0\n",
    "    for i in range(Y_test.shape[0]):\n",
    "        if (Y_test[i][Y_test_pred_arg[i]] == np.max(Y_test[i])):\n",
    "            count += 1\n",
    "\n",
    "    accuracy_score_test = count / Y_test.shape[0]\n",
    "    print(accuracy_score_test)"
   ]
  },
  {
   "cell_type": "code",
   "execution_count": 4,
   "metadata": {
    "collapsed": true
   },
   "outputs": [],
   "source": [
    "# Read the dataset\n",
    "X_test = np.load('../../data/Emotion/Test/final_data.npy')\n",
    "Y_test = np.load('../../data/Emotion/Test/final_labels_data.npy')"
   ]
  },
  {
   "cell_type": "code",
   "execution_count": 7,
   "metadata": {},
   "outputs": [],
   "source": [
    "model = model_generate(8)"
   ]
  },
  {
   "cell_type": "code",
   "execution_count": 8,
   "metadata": {
    "collapsed": true
   },
   "outputs": [],
   "source": [
    "# Load the weights into our model\n",
    "model.load_weights('../logs/weights-emotion.h5')"
   ]
  },
  {
   "cell_type": "code",
   "execution_count": 21,
   "metadata": {},
   "outputs": [
    {
     "name": "stdout",
     "output_type": "stream",
     "text": [
      "3507/3507 [==============================] - 167s   \n",
      "0.8400342172797263\n"
     ]
    }
   ],
   "source": [
    "# Test set accuracy\n",
    "compute_accuracy(model, X_test, Y_test)"
   ]
  },
  {
   "cell_type": "markdown",
   "metadata": {},
   "source": [
    "### Examples"
   ]
  },
  {
   "cell_type": "code",
   "execution_count": 58,
   "metadata": {},
   "outputs": [
    {
     "name": "stdout",
     "output_type": "stream",
     "text": [
      "Actual Emotion: happiness\n"
     ]
    }
   ],
   "source": [
    "img = np.reshape(X_test[10], newshape=(1,64,64,1))\n",
    "actual_emotion = emotion_table[np.argmax(Y_test[10])]\n",
    "print('Actual Emotion:', actual_emotion)"
   ]
  },
  {
   "cell_type": "code",
   "execution_count": 59,
   "metadata": {},
   "outputs": [
    {
     "name": "stdout",
     "output_type": "stream",
     "text": [
      "Predicted Emotion: happiness\n"
     ]
    }
   ],
   "source": [
    "predicted_emotion = emotion_table[np.argmax(model.predict(img))]\n",
    "print('Predicted Emotion:', predicted_emotion)"
   ]
  },
  {
   "cell_type": "code",
   "execution_count": 48,
   "metadata": {},
   "outputs": [
    {
     "data": {
      "text/plain": [
       "<matplotlib.image.AxesImage at 0x123547160>"
      ]
     },
     "execution_count": 48,
     "metadata": {},
     "output_type": "execute_result"
    },
    {
     "data": {
      "image/png": "[encoded data removed]",
      "text/plain": [
       "<matplotlib.figure.Figure at 0x122bd9f98>"
      ]
     },
     "metadata": {},
     "output_type": "display_data"
    }
   ],
   "source": [
    "imshow(np.reshape(img, newshape=(64,64)), cmap='gray')"
   ]
  },
  {
   "cell_type": "code",
   "execution_count": 60,
   "metadata": {},
   "outputs": [
    {
     "name": "stdout",
     "output_type": "stream",
     "text": [
      "Actual Emotion: surprise\n"
     ]
    }
   ],
   "source": [
    "img = np.reshape(X_test[16], newshape=(1,64,64,1))\n",
    "actual_emotion = emotion_table[np.argmax(Y_test[16])]\n",
    "print('Actual Emotion:', actual_emotion)"
   ]
  },
  {
   "cell_type": "code",
   "execution_count": 61,
   "metadata": {},
   "outputs": [
    {
     "name": "stdout",
     "output_type": "stream",
     "text": [
      "Predicted Emotion: surprise\n"
     ]
    }
   ],
   "source": [
    "predicted_emotion = emotion_table[np.argmax(model.predict(img))]\n",
    "print('Predicted Emotion:', predicted_emotion)"
   ]
  },
  {
   "cell_type": "code",
   "execution_count": 62,
   "metadata": {},
   "outputs": [
    {
     "data": {
      "text/plain": [
       "<matplotlib.image.AxesImage at 0x1235afb38>"
      ]
     },
     "execution_count": 62,
     "metadata": {},
     "output_type": "execute_result"
    },
    {
     "data": {
      "image/png": "[encoded data removed]",
      "text/plain": [
       "<matplotlib.figure.Figure at 0x1234db860>"
      ]
     },
     "metadata": {},
     "output_type": "display_data"
    }
   ],
   "source": [
    "imshow(np.reshape(img, newshape=(64,64)), cmap='gray')"
   ]
  },
  {
   "cell_type": "code",
   "execution_count": 83,
   "metadata": {},
   "outputs": [
    {
     "name": "stdout",
     "output_type": "stream",
     "text": [
      "Actual Emotion: sadness\n"
     ]
    }
   ],
   "source": [
    "img = np.reshape(X_test[29], newshape=(1,64,64,1))\n",
    "actual_emotion = emotion_table[np.argmax(Y_test[29])]\n",
    "print('Actual Emotion:', actual_emotion)"
   ]
  },
  {
   "cell_type": "code",
   "execution_count": 84,
   "metadata": {},
   "outputs": [
    {
     "name": "stdout",
     "output_type": "stream",
     "text": [
      "Predicted Emotion: neutral\n"
     ]
    }
   ],
   "source": [
    "predicted_emotion = emotion_table[np.argmax(model.predict(img))]\n",
    "print('Predicted Emotion:', predicted_emotion)"
   ]
  },
  {
   "cell_type": "code",
   "execution_count": 85,
   "metadata": {},
   "outputs": [
    {
     "data": {
      "text/plain": [
       "<matplotlib.image.AxesImage at 0x12375c908>"
      ]
     },
     "execution_count": 85,
     "metadata": {},
     "output_type": "execute_result"
    },
    {
     "data": {
      "image/png": "[encoded data removed]",
      "text/plain": [
       "<matplotlib.figure.Figure at 0x122bdac88>"
      ]
     },
     "metadata": {},
     "output_type": "display_data"
    }
   ],
   "source": [
    "imshow(np.reshape(img, newshape=(64,64)), cmap='gray')"
   ]
  },
  {
   "cell_type": "code",
   "execution_count": null,
   "metadata": {
    "collapsed": true
   },
   "outputs": [],
   "source": []
  }
 ],
 "metadata": {
  "kernelspec": {
   "display_name": "Python [default]",
   "language": "python",
   "name": "python3"
  },
  "language_info": {
   "codemirror_mode": {
    "name": "ipython",
    "version": 3
   },
   "file_extension": ".py",
   "mimetype": "text/x-python",
   "name": "python",
   "nbconvert_exporter": "python",
   "pygments_lexer": "ipython3",
   "version": "3.5.3"
  }
 },
 "nbformat": 4,
 "nbformat_minor": 2
}
