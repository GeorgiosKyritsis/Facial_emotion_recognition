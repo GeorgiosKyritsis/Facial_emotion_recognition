{
 "cells": [
  {
   "cell_type": "code",
   "execution_count": 13,
   "metadata": {},
   "outputs": [],
   "source": [
    "import numpy as np\n",
    "from model_age import model_generate_age\n",
    "from model_gender import model_generate_gender\n",
    "from model_emotion import model_generate_emotion\n",
    "from matplotlib.pyplot import imshow\n",
    "%matplotlib inline"
   ]
  },
  {
   "cell_type": "code",
   "execution_count": 18,
   "metadata": {},
   "outputs": [],
   "source": [
    "# Compute the accuracy of the emotion dataset\n",
    "def compute_accuracy(model, X_test, Y_test):\n",
    "    Y_test_pred = model.predict(X_test, verbose=1)\n",
    "    Y_test_pred_arg = np.argmax(Y_test_pred, axis=1)\n",
    "    count = 0\n",
    "    for i in range(Y_test.shape[0]):\n",
    "        if (Y_test[i][Y_test_pred_arg[i]] == np.max(Y_test[i])):\n",
    "            count += 1\n",
    "    accuracy_score_test = count / Y_test.shape[0]\n",
    "    print(accuracy_score_test)"
   ]
  },
  {
   "cell_type": "code",
   "execution_count": 19,
   "metadata": {},
   "outputs": [],
   "source": [
    "emotion_table = {0: 'neutral',\n",
    "                 1: 'happiness',\n",
    "                 2: 'surprise',\n",
    "                 3: 'sadness',\n",
    "                 4: 'anger',\n",
    "                 5: 'disgust',\n",
    "                 6: 'fear',\n",
    "                 7: 'contempt'}"
   ]
  },
  {
   "cell_type": "code",
   "execution_count": 20,
   "metadata": {
    "collapsed": true
   },
   "outputs": [],
   "source": [
    "gender_table = {0: 'man',\n",
    "                1: 'woman'\n",
    "               }"
   ]
  },
  {
   "cell_type": "code",
   "execution_count": 21,
   "metadata": {},
   "outputs": [],
   "source": [
    "# Read the dataset\n",
    "X_test = np.load('../../data/Emotion/Test/final_data.npy')\n",
    "Y_test = np.load('../../data/Emotion/Test/final_labels_data.npy')"
   ]
  },
  {
   "cell_type": "code",
   "execution_count": 22,
   "metadata": {
    "collapsed": true
   },
   "outputs": [],
   "source": [
    "model_emotion, model_gender, model_age = model_generate_emotion(8), model_generate_gender(2), model_generate_age(1)"
   ]
  },
  {
   "cell_type": "code",
   "execution_count": 23,
   "metadata": {},
   "outputs": [],
   "source": [
    "# Load the weights into our models\n",
    "model_emotion.load_weights('../logs/weights-emotion.h5')\n",
    "model_gender.load_weights('../logs/weights-gender.h5')\n",
    "model_age.load_weights('../logs/weights-age.h5')"
   ]
  },
  {
   "cell_type": "code",
   "execution_count": 24,
   "metadata": {},
   "outputs": [
    {
     "name": "stdout",
     "output_type": "stream",
     "text": [
      "3507/3507 [==============================] - 165s   \n",
      "0.8494439692044482\n"
     ]
    }
   ],
   "source": [
    "# Test set accuracy\n",
    "compute_accuracy(model_emotion, X_test, Y_test)"
   ]
  },
  {
   "cell_type": "markdown",
   "metadata": {},
   "source": [
    "### Examples"
   ]
  },
  {
   "cell_type": "code",
   "execution_count": 37,
   "metadata": {},
   "outputs": [
    {
     "data": {
      "text/plain": [
       "<matplotlib.image.AxesImage at 0x12c0b8780>"
      ]
     },
     "execution_count": 37,
     "metadata": {},
     "output_type": "execute_result"
    },
    {
     "data": {
      "image/png": "[encoded data removed]",
      "text/plain": [
       "<matplotlib.figure.Figure at 0x12c00d940>"
      ]
     },
     "metadata": {},
     "output_type": "display_data"
    }
   ],
   "source": [
    "img = np.reshape(X_test[300], newshape=(1,64,64,1))\n",
    "imshow(np.reshape(img, newshape=(64,64)), cmap='gray')"
   ]
  },
  {
   "cell_type": "code",
   "execution_count": 38,
   "metadata": {},
   "outputs": [
    {
     "name": "stdout",
     "output_type": "stream",
     "text": [
      "Actual Emotion: anger\n"
     ]
    }
   ],
   "source": [
    "actual_emotion = emotion_table[np.argmax(Y_test[300])]\n",
    "print('Actual Emotion:', actual_emotion)"
   ]
  },
  {
   "cell_type": "code",
   "execution_count": 39,
   "metadata": {},
   "outputs": [
    {
     "name": "stdout",
     "output_type": "stream",
     "text": [
      "Predicted Emotion: anger\n"
     ]
    }
   ],
   "source": [
    "predicted_emotion = emotion_table[np.argmax(model_emotion.predict(img))]\n",
    "print('Predicted Emotion:', predicted_emotion)"
   ]
  },
  {
   "cell_type": "code",
   "execution_count": 40,
   "metadata": {},
   "outputs": [
    {
     "name": "stdout",
     "output_type": "stream",
     "text": [
      "Predicted Gender: man\n"
     ]
    }
   ],
   "source": [
    "predicted_gender = gender_table[np.argmax(model_gender.predict(img))]\n",
    "print('Predicted Gender:', predicted_gender)"
   ]
  },
  {
   "cell_type": "code",
   "execution_count": null,
   "metadata": {
    "collapsed": true
   },
   "outputs": [],
   "source": []
  }
 ],
 "metadata": {
  "kernelspec": {
   "display_name": "Python [default]",
   "language": "python",
   "name": "python3"
  },
  "language_info": {
   "codemirror_mode": {
    "name": "ipython",
    "version": 3
   },
   "file_extension": ".py",
   "mimetype": "text/x-python",
   "name": "python",
   "nbconvert_exporter": "python",
   "pygments_lexer": "ipython3",
   "version": "3.5.3"
  }
 },
 "nbformat": 4,
 "nbformat_minor": 2
}
