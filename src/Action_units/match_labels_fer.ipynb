{
 "cells": [
  {
   "cell_type": "code",
   "execution_count": 12,
   "metadata": {
    "collapsed": true
   },
   "outputs": [],
   "source": [
    "import os\n",
    "import pandas as pd\n",
    "import numpy as np"
   ]
  },
  {
   "cell_type": "code",
   "execution_count": 13,
   "metadata": {
    "collapsed": true
   },
   "outputs": [],
   "source": [
    "# Read the cohn kanade dataset\n",
    "# It has action units + emotions\n",
    "data = pd.read_csv('../../data/action_units/cohn_kanade/ck.csv')"
   ]
  },
  {
   "cell_type": "code",
   "execution_count": 14,
   "metadata": {
    "collapsed": true
   },
   "outputs": [],
   "source": [
    "# Change the labels to match FER dataset\n",
    "fer_labels = []"
   ]
  },
  {
   "cell_type": "code",
   "execution_count": 15,
   "metadata": {
    "collapsed": true
   },
   "outputs": [],
   "source": [
    "for label in data['emotion']:\n",
    "    # Anger\n",
    "    if label == 1:\n",
    "        fer_labels.append(4)\n",
    "    # Contempt\n",
    "    elif label == 2:\n",
    "        fer_labels.append(7)\n",
    "    # Disgust\n",
    "    elif label == 3:\n",
    "        fer_labels.append(5)\n",
    "    # Fear\n",
    "    elif label == 4:\n",
    "        fer_labels.append(6)\n",
    "    # Happy\n",
    "    elif label == 5:\n",
    "        fer_labels.append(1)\n",
    "    # Sad\n",
    "    elif label == 6:\n",
    "        fer_labels.append(3)\n",
    "    # Surprise\n",
    "    elif label == 7:\n",
    "        fer_labels.append(2)\n",
    "    else:\n",
    "        print('Error')       "
   ]
  },
  {
   "cell_type": "code",
   "execution_count": 31,
   "metadata": {
    "collapsed": true
   },
   "outputs": [],
   "source": [
    "del data['emotion']"
   ]
  },
  {
   "cell_type": "code",
   "execution_count": 33,
   "metadata": {
    "collapsed": true
   },
   "outputs": [],
   "source": [
    "data['emotion'] = fer_labels"
   ]
  },
  {
   "cell_type": "code",
   "execution_count": 40,
   "metadata": {
    "collapsed": true
   },
   "outputs": [],
   "source": [
    "# Save the file\n",
    "data.to_csv('./../data/action_units/ck_fer.csv', index=False)"
   ]
  }
 ],
 "metadata": {
  "kernelspec": {
   "display_name": "Python [default]",
   "language": "python",
   "name": "python3"
  },
  "language_info": {
   "codemirror_mode": {
    "name": "ipython",
    "version": 3
   },
   "file_extension": ".py",
   "mimetype": "text/x-python",
   "name": "python",
   "nbconvert_exporter": "python",
   "pygments_lexer": "ipython3",
   "version": "3.5.3"
  }
 },
 "nbformat": 4,
 "nbformat_minor": 2
}
