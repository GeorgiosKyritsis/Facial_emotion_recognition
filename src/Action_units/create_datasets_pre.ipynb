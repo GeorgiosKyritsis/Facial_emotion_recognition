{
 "cells": [
  {
   "cell_type": "code",
   "execution_count": null,
   "metadata": {
    "collapsed": true
   },
   "outputs": [],
   "source": [
    "# delete all variables\n",
    "%reset"
   ]
  },
  {
   "cell_type": "code",
   "execution_count": null,
   "metadata": {
    "collapsed": true
   },
   "outputs": [],
   "source": [
    "# load necessary modules\n",
    "from __future__ import print_function\n",
    "\n",
    "import os\n",
    "import re\n",
    "import pandas as pd\n",
    "from tqdm import tqdm\n",
    "import numpy as np\n",
    "from sklearn.model_selection import GridSearchCV\n",
    "from sklearn.metrics import classification_report\n",
    "import xgboost as xgb\n",
    "from xgboost import XGBClassifier\n",
    "from sklearn.svm import SVC\n",
    "import pickle\n",
    "from itertools import combinations\n",
    "%matplotlib inline"
   ]
  },
  {
   "cell_type": "code",
   "execution_count": null,
   "metadata": {
    "collapsed": true
   },
   "outputs": [],
   "source": [
    "# get the action units from folders\n",
    "# The 3 folders contain action units extracted by a pretrained network for each image\n",
    "files_train = os.listdir('../../data/action_units/pretrained/Train/')\n",
    "files_valid = os.listdir('../pretrained/Valid/')\n",
    "files_test = os.listdir('../pretrained/Test/')\n",
    "\n",
    "train_csv = [file for file in files_train if 'csv' in file]\n",
    "valid_csv = [file for file in files_valid if 'csv' in file]\n",
    "test_csv = [file for file in files_test if 'csv' in file]\n",
    "\n",
    "# Get the indices for every set\n",
    "ind_train = sorted([int(re.search('\\d+', tr).group()) for tr in train_csv])\n",
    "ind_valid = sorted([int(re.search('\\d+', v).group()) for v in valid_csv])\n",
    "ind_test = sorted([int(re.search('\\d+', te).group()) for te in test_csv])"
   ]
  },
  {
   "cell_type": "code",
   "execution_count": null,
   "metadata": {
    "collapsed": true
   },
   "outputs": [],
   "source": [
    "# Get the emotion from every image\n",
    "def get_emotion(index, folder):\n",
    "    tmp = np.load(folder + 'lab{}.npy'.format(index))\n",
    "    m = np.max(tmp)\n",
    "    indexes = [i for i, j in enumerate(tmp) if j == m]\n",
    "    if len(indexes) == 1:\n",
    "        return indexes[0]\n",
    "    else:\n",
    "        return None"
   ]
  },
  {
   "cell_type": "code",
   "execution_count": null,
   "metadata": {
    "collapsed": true
   },
   "outputs": [],
   "source": []
  },
  {
   "cell_type": "code",
   "execution_count": null,
   "metadata": {
    "collapsed": true
   },
   "outputs": [],
   "source": [
    "# Create a dataset for all the AU for the training set\n",
    "df_train = pd.DataFrame()\n",
    "for i in tqdm(ind_train):\n",
    "    em = get_emotion(i, '../../data/action_units/pretrained/Train/')\n",
    "    if em is not None:\n",
    "        f = pd.read_csv('../../data/action_units/pretrained/Train/img{}.csv'.format(i))\n",
    "        f['emotion'] = int(em)\n",
    "        df_train = pd.concat([df_train,f])"
   ]
  },
  {
   "cell_type": "code",
   "execution_count": null,
   "metadata": {
    "collapsed": true
   },
   "outputs": [],
   "source": []
  },
  {
   "cell_type": "code",
   "execution_count": null,
   "metadata": {
    "collapsed": true
   },
   "outputs": [],
   "source": [
    "# Create a dataset for all the AU for the validation set\n",
    "df_valid = pd.DataFrame()\n",
    "for i in tqdm(ind_valid):\n",
    "    em = get_emotion(i, '../../data/action_units/pretrained/Valid/')\n",
    "    if em is not None:\n",
    "        f = pd.read_csv('../../data/action_units/pretrained/Valid/img{}.csv'.format(i))\n",
    "        f['emotion'] = int(em)\n",
    "        df_valid = pd.concat([df_valid,f])"
   ]
  },
  {
   "cell_type": "code",
   "execution_count": null,
   "metadata": {
    "collapsed": true
   },
   "outputs": [],
   "source": []
  },
  {
   "cell_type": "code",
   "execution_count": null,
   "metadata": {
    "collapsed": true
   },
   "outputs": [],
   "source": [
    "# Create a dataset for all the AU for the test set\n",
    "df_test = pd.DataFrame()\n",
    "for i in tqdm(ind_test):\n",
    "    em = get_emotion(i, '../../data/action_units/pretrained/Test/')\n",
    "    if em is not None:\n",
    "        f = pd.read_csv('../../data/action_units/pretrained/Test/img{}.csv'.format(i))\n",
    "        f['emotion'] = int(em)\n",
    "        df_test = pd.concat([df_test,f])"
   ]
  },
  {
   "cell_type": "code",
   "execution_count": null,
   "metadata": {
    "collapsed": true
   },
   "outputs": [],
   "source": [
    "df_train = pd.concat([df_train, df_valid])"
   ]
  },
  {
   "cell_type": "code",
   "execution_count": null,
   "metadata": {
    "collapsed": true
   },
   "outputs": [],
   "source": [
    "# Save the dataframes to a csv file\n",
    "df_train.to_csv('./../data/action_units/au_train.csv', index=False)\n",
    "df_test.to_csv('./../data/action_units/au_test.csv', index=False)"
   ]
  },
  {
   "cell_type": "code",
   "execution_count": null,
   "metadata": {
    "collapsed": true
   },
   "outputs": [],
   "source": []
  },
  {
   "cell_type": "code",
   "execution_count": null,
   "metadata": {
    "collapsed": true
   },
   "outputs": [],
   "source": []
  },
  {
   "cell_type": "code",
   "execution_count": null,
   "metadata": {
    "collapsed": true
   },
   "outputs": [],
   "source": []
  }
 ],
 "metadata": {
  "kernelspec": {
   "display_name": "Python [default]",
   "language": "python",
   "name": "python3"
  },
  "language_info": {
   "codemirror_mode": {
    "name": "ipython",
    "version": 3
   },
   "file_extension": ".py",
   "mimetype": "text/x-python",
   "name": "python",
   "nbconvert_exporter": "python",
   "pygments_lexer": "ipython3",
   "version": "3.5.3"
  }
 },
 "nbformat": 4,
 "nbformat_minor": 2
}
